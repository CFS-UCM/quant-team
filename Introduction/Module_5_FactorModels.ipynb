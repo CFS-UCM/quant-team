{
 "cells": [
  {
   "cell_type": "markdown",
   "id": "17c74a4a",
   "metadata": {},
   "source": [
    "# Módulo 5: Factor Investing\n"
   ]
  },
  {
   "cell_type": "markdown",
   "id": "3da2ae3c",
   "metadata": {},
   "source": [
    "## 5.1 - Modelos de Factores Fundamentales\n",
    "\n",
    "**Datos fundamentales** se refieren a las métricas y ratios financieros de las empresas, obtenidos de sus informes públicos (por ejemplo, cuenta de resultados, balance).  \n",
    "Ejemplos:  \n",
    "- Capitalización bursátil  \n",
    "- Crecimiento del beneficio neto  \n",
    "- Flujo de caja  \n",
    "\n",
    "Podemos usar esta información para construir un **modelo lineal de factores**, donde la rentabilidad de un activo depende de su exposición a un conjunto de **factores fundamentales**, como vimos en el módulo anterior.\n",
    "\n",
    "---\n",
    "\n",
    "#### Ideas Clave\n",
    "- Los modelos de factores fundamentales buscan identificar **características que afectan al riesgo y la rentabilidad**.  \n",
    "- El gran reto: decidir **qué factores utilizar**.  \n",
    "  - Los factores significativos suelen ser **arbitrados** una vez descubiertos.  \n",
    "- Una vez elegidos los factores, se debe calcular la **exposición (beta)** de cada activo a ellos.  \n",
    "\n",
    "---\n",
    "\n",
    "#### Problema de Escalado\n",
    "- Los factores fundamentales tienen **unidades y magnitudes diferentes**.  \n",
    "- Para compararlos de forma justa, se usan dos enfoques:  \n",
    "  1. **Construcción de Carteras** – crear carteras long-short ordenadas según cada factor y usar sus retornos como factores del modelo.  \n",
    "  2. **Normalización** – estandarizar directamente los valores de los factores.\n",
    "\n",
    "---\n",
    "\n",
    "#### Enfoque 1: Construcción de Carteras\n",
    "- Se utilizan los datos fundamentales como un **esquema de ranking**.  \n",
    "- Se construyen **carteras long-short** basadas en cada factor.  \n",
    "- Los retornos de estas carteras se usan como factores en el modelo.  \n",
    "\n",
    "**Ejemplo: Modelos de Fama-French y Carhart**\n",
    "- Extienden el CAPM (que solo incluía el riesgo de mercado) añadiendo:  \n",
    "  - **SMB (Small Minus Big)** → exceso de retorno de empresas pequeñas frente a grandes.  \n",
    "  - **HML (High Minus Low)** → exceso de retorno de empresas con alto ratio valor contable / precio frente a bajo.  \n",
    "  - **MOM (Momentum)** → exceso de retorno de ganadores recientes frente a perdedores recientes.  \n",
    "- Resultado empírico: estos factores **explican mejor las rentabilidades** que el CAPM por sí solo.  \n",
    "\n",
    "---\n",
    "\n",
    "#### Aplicaciones\n",
    "1. **Valoración de Activos**  \n",
    "   - Usar regresiones de Fama-Macbeth para estimar las **primas de riesgo**.  \n",
    "2. **Cobertura de Carteras**  \n",
    "   - Regresión de los retornos de la cartera sobre los retornos de los factores.  \n",
    "   - Las betas indican exposiciones que se pueden cubrir.  \n",
    "\n",
    "---\n"
   ]
  },
  {
   "cell_type": "markdown",
   "id": "2d403a68",
   "metadata": {},
   "source": [
    "Nota: tengo código varios scripts sobre esto muy interesantes y visuales, pero acceden a datos privados y no puedo compartirlos. Si a alguien le interesa que me escriba. De todas formas, los libros recomendados al princpio elaboran más profundamente en estas ideas."
   ]
  }
 ],
 "metadata": {
  "kernelspec": {
   "display_name": ".venv",
   "language": "python",
   "name": "python3"
  },
  "language_info": {
   "codemirror_mode": {
    "name": "ipython",
    "version": 3
   },
   "file_extension": ".py",
   "mimetype": "text/x-python",
   "name": "python",
   "nbconvert_exporter": "python",
   "pygments_lexer": "ipython3",
   "version": "3.13.1"
  }
 },
 "nbformat": 4,
 "nbformat_minor": 5
}
