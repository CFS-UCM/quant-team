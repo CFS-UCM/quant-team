{
 "cells": [
  {
   "cell_type": "markdown",
   "id": "d71bfa40",
   "metadata": {},
   "source": [
    "# Módulo 3 — Modelos de Valoración de Activos\n",
    "\n",
    "## 1. CAPM (Capital Asset Pricing Model)\n",
    "El CAPM establece que el rendimiento esperado de un activo depende del rendimiento libre de riesgo más una prima de riesgo proporcional a su beta respecto al mercado.  \n",
    "- **Fórmula:**  \n",
    "  E[R_i] = R_f + β_i (E[R_m] - R_f)  \n",
    "- Intuición: los inversores son compensados solo por el riesgo sistemático (no diversificable).\n",
    "\n",
    "## 2. APT (Arbitrage Pricing Theory)\n",
    "La APT generaliza el CAPM permitiendo múltiples factores de riesgo que explican los retornos.  \n",
    "- **Idea central:** si dos carteras tienen la misma exposición a todos los factores de riesgo, deben tener el mismo rendimiento esperado (o existiría una oportunidad de arbitraje).  \n",
    "- Los factores pueden ser macroeconómicos (inflación, PIB, tipos de interés) o estadísticos.\n",
    "\n",
    "## 3. Fama-French Three-Factor Model\n",
    "Ampliación del CAPM que añade dos factores además del mercado:  \n",
    "- **SMB (Small minus Big):** captura la prima por tamaño (empresas pequeñas tienden a rendir más que grandes).  \n",
    "- **HML (High minus Low):** captura la prima por valor (empresas con alto ratio book-to-market tienden a rendir más).  \n",
    "- **Fórmula:**  \n",
    "  E[R_i] = R_f + β_m (E[R_m] - R_f) + β_s SMB + β_h HML\n",
    "\n",
    "Este modelo explica mejor las anomalías empíricas en los retornos que el CAPM.\n"
   ]
  },
  {
   "cell_type": "code",
   "execution_count": null,
   "id": "367fb751",
   "metadata": {},
   "outputs": [],
   "source": [
    "import pandas as pd\n",
    "import statsmodels.api as sm\n",
    "\n",
    "# Ejemplo: Estimar CAPM\n",
    "returns = pd.Series([0.01, 0.02, -0.005, 0.015, 0.03])\n",
    "market = pd.Series([0.012, 0.018, -0.002, 0.014, 0.028])\n",
    "rf = 0.001\n",
    "\n",
    "X = sm.add_constant(market - rf)\n",
    "y = returns - rf\n",
    "model = sm.OLS(y, X).fit()\n",
    "print(model.summary())"
   ]
  },
  {
   "cell_type": "markdown",
   "id": "c97304d9",
   "metadata": {},
   "source": [
    "### Ejercicio:\n",
    "1. Implementa el modelo de Fama-French de 3 factores con datos de Kenneth French.\n",
    "2. Extiende a Carhart 4 factores añadiendo Momentum."
   ]
  }
 ],
 "metadata": {
  "kernelspec": {
   "display_name": ".venv",
   "language": "python",
   "name": "python3"
  },
  "language_info": {
   "name": "python",
   "version": "3.13.1"
  }
 },
 "nbformat": 4,
 "nbformat_minor": 5
}
