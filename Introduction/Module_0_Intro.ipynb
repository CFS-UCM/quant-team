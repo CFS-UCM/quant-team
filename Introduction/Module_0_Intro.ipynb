{
 "cells": [
  {
   "cell_type": "markdown",
   "id": "11aea394",
   "metadata": {},
   "source": [
    "# Módulo 0 — Introducción y Nivelación\n",
    "\n",
    "**Objetivo:** Poner a todo el mundo en el mismo punto conceptual: qué es quantitative finance, vocabulario esencial, y lecturas/pistas para profundizar."
   ]
  },
  {
   "cell_type": "markdown",
   "id": "4f09b177",
   "metadata": {},
   "source": [
    "## 0.1 Glosario\n",
    "\n",
    "- **Alpha**: rendimiento extra esperado por encima del benchmark ajustado por riesgo.\n",
    "- **Beta**: sensibilidad del activo a un factor (habitualmente el mercado).\n",
    "- **Sharpe Ratio**: ratio rentabilidad/volatilidad (exceso sobre rentabilidad libre de riesgo).\n",
    "- **VaR / ES**: medidas de cola para pérdida potencial.\n",
    "- **Factor model**: descomposición de rentabilidades en exposiciones a factores (p.ej. Fama-French).\n",
    "- **Backtesting**: procedimiento reproducible para medir rendimiento pasado de una estrategia.\n",
    "- **Overfitting**: ajuste excesivo a datos históricos sin validez fuera de muestra."
   ]
  },
  {
   "cell_type": "markdown",
   "id": "7925d1a3",
   "metadata": {},
   "source": [
    "## 0.2 Flujo de trabajo estándar en un proyecto cuantitativo\n",
    "\n",
    "1. **Formulación de la hipótesis** (p.ej. 'una señal basada en momentum semanal produce alfa').\n",
    "2. **Recolección de datos** (precios, volumen, factores, noticias, alternativas).\n",
    "3. **Limpieza y tratamiento** (ajustes por splits/dividends, gestión de missing).\n",
    "4. **Definición de señales y features**.\n",
    "5. **Backtest con controles robustos** (walk-forward, purgado de datos, ajuste por costs).\n",
    "6. **Evaluación estadística** (t-tests, p-values, pruebas de robusteza).\n",
    "7. **Implementación y monitorización**.\n"
   ]
  },
  {
   "cell_type": "markdown",
   "id": "43e7740d",
   "metadata": {},
   "source": [
    "## 0.3 Lecturas recomendadas\n",
    "\n",
    "- Andrew Ang, Asset Management: A Systematic Approach to Factor Investing, Oxford University Press, 2014.\n",
    "- Lasse Heje Pedersen, Efficiently Inefficient: How Smart Money Invests and Market Prices Are Determined, Princeton University Press, 2015.\n",
    "- Antti Ilmanen, Expected Returns: An Investor's Guide to Harvesting Market Rewards, Wiley, 2011.\n",
    "- Bodie, Z., Kane, A., & Marcus, A. J. (2014). Investments (10th ed.). McGraw-Hill Education.\n"
   ]
  }
 ],
 "metadata": {
  "language_info": {
   "name": "python"
  }
 },
 "nbformat": 4,
 "nbformat_minor": 5
}
