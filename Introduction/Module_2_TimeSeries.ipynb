{
 "cells": [
  {
   "cell_type": "markdown",
   "id": "f8b00f96",
   "metadata": {},
   "source": [
    "# Módulo 2 — Series temporales y procesos estocásticos (avanzado)\n",
    "\n",
    "**Objetivo:** cubrir teoría y práctica avanzada: pruebas de estacionariedad, ARIMA, modelos GARCH, simulación de procesos estocásticos y pricing por Monte Carlo."
   ]
  },
  {
   "cell_type": "markdown",
   "id": "ae6f7048",
   "metadata": {},
   "source": [
    "## 2.0 — Setup"
   ]
  },
  {
   "cell_type": "code",
   "execution_count": null,
   "id": "de0600ba",
   "metadata": {},
   "outputs": [],
   "source": [
    "from statsmodels.tsa.stattools import adfuller, kpss\n",
    "from statsmodels.tsa.arima.model import ARIMA\n",
    "from arch import arch_model\n",
    "import numpy as np"
   ]
  },
  {
   "cell_type": "markdown",
   "id": "72f6951f",
   "metadata": {},
   "source": [
    "## 2.1 — Estacionariedad y pruebas\n",
    "\n",
    "- Definición de estacionariedad débil (medias y covarianzas no dependen del tiempo).\n",
    "- Pruebas: ADF (Augmented Dickey-Fuller), KPSS.\n"
   ]
  },
  {
   "cell_type": "code",
   "execution_count": 1,
   "id": "72d4faf4",
   "metadata": {},
   "outputs": [],
   "source": [
    "def test_stationarity(series, autolag='AIC'):\n",
    "    \"\"\"Realiza ADF y KPSS. Devuelve un dict con resultados.\"\"\"\n",
    "    adf_res = adfuller(series.dropna(), autolag=autolag)\n",
    "    kpss_res = kpss(series.dropna(), regression='c', nlags='auto')\n",
    "    return {\n",
    "        'adf_stat': adf_res[0], 'adf_pvalue': adf_res[1],\n",
    "        'kpss_stat': kpss_res[0], 'kpss_pvalue': kpss_res[1]\n",
    "    }\n",
    "\n",
    "# uso: test_stationarity(returns)\n"
   ]
  },
  {
   "cell_type": "markdown",
   "id": "a3e0bfa2",
   "metadata": {},
   "source": [
    "## 2.2 — ARIMA: teoría breve y selección de órdenes\n",
    "\n",
    "- AR(p): dependencia lineal de orden p.\n",
    "- MA(q): media movil de errores de orden q.\n",
    "- ARIMA(p,d,q): integración de orden d.\n",
    "\n",
    "**Selección de órdenes**: AIC/BIC, inspección de ACF/PACF y validación out-of-sample.\n"
   ]
  },
  {
   "cell_type": "code",
   "execution_count": 2,
   "id": "86c8e258",
   "metadata": {},
   "outputs": [],
   "source": [
    "def fit_arima(series, order=(1,0,1)):\n",
    "    \"\"\"Ajusta ARIMA y devuelve el modelo ajustado.\"\"\"\n",
    "    model = ARIMA(series.dropna(), order=order).fit()\n",
    "    return model\n",
    "\n",
    "# uso: mod = fit_arima(returns, (1,0,1)); print(mod.summary())\n"
   ]
  },
  {
   "cell_type": "markdown",
   "id": "a818c66a",
   "metadata": {},
   "source": [
    "## 2.3 — GARCH: modelado de heterocedasticidad\n",
    "\n",
    "- Motivación: varianza condicional que cambia con el tiempo.\n",
    "- GARCH(1,1) como modelo básico con interpretación económica.\n"
   ]
  },
  {
   "cell_type": "code",
   "execution_count": 3,
   "id": "99a7f8f7",
   "metadata": {},
   "outputs": [],
   "source": [
    "def fit_garch(returns, p=1, q=1, vol='Garch'):\n",
    "    \"\"\"Ajusta un modelo GARCH a series de retornos (en % o decimales).\n",
    "    Devuelve el objeto resultante con forecast disponible.\"\"\"\n",
    "    am = arch_model(returns.dropna()*100, vol=vol, p=p, q=q, dist='normal')\n",
    "    res = am.fit(disp='off')\n",
    "    return res\n",
    "\n",
    "# uso: g = fit_garch(returns)\n",
    "# print(g.summary())\n"
   ]
  },
  {
   "cell_type": "markdown",
   "id": "01f5fd1e",
   "metadata": {},
   "source": [
    "## 2.4 — Simulación de procesos estocásticos: GBM y saltos\n",
    "\n",
    "- GBM (Geometric Brownian Motion) para precios sin saltos.\n",
    "- Merton jump-diffusion para incorporar saltos.\n"
   ]
  },
  {
   "cell_type": "code",
   "execution_count": 4,
   "id": "eb8865cb",
   "metadata": {},
   "outputs": [],
   "source": [
    "def simulate_gbm(S0, mu, sigma, T=1.0, n_steps=252, n_sims=1000, seed=None):\n",
    "    \"\"\"Simula trayectorias de GBM.\n",
    "    S0: precio inicial\n",
    "    mu: drift anual\n",
    "    sigma: volatilidad anual\n",
    "    T: horizonte en años\n",
    "    n_steps: pasos (p.ej. 252 para diario)\n",
    "    n_sims: número de simulaciones\n",
    "    \"\"\"\n",
    "    if seed is not None:\n",
    "        np.random.seed(seed)\n",
    "    dt = T / n_steps\n",
    "    nudt = (mu - 0.5 * sigma**2) * dt\n",
    "    sigsdt = sigma * np.sqrt(dt)\n",
    "    increments = nudt + sigsdt * np.random.randn(n_sims, n_steps)\n",
    "    log_paths = np.cumsum(increments, axis=1)\n",
    "    S = S0 * np.exp(log_paths)\n",
    "    # concatenar S0 al inicio si se desea\n",
    "    return S\n",
    "\n",
    "# Merton jump-diffusion\n",
    "def simulate_merton(S0, mu, sigma, lamb, mu_j, sigma_j, T=1.0, n_steps=252, n_sims=1000, seed=None):\n",
    "    if seed is not None:\n",
    "        np.random.seed(seed)\n",
    "    dt = T/n_steps\n",
    "    S = np.zeros((n_sims, n_steps))\n",
    "    for i in range(n_sims):\n",
    "        S_t = S0\n",
    "        for t in range(n_steps):\n",
    "            # Poisson para saltos\n",
    "            Nj = np.random.poisson(lamb*dt)\n",
    "            jump = 0.0\n",
    "            if Nj>0:\n",
    "                # sumar efectos de saltos log-normales (suma de Nj normals)\n",
    "                jump = np.sum(np.random.normal(mu_j, sigma_j, size=Nj))\n",
    "            # difusión\n",
    "            dW = np.random.normal(0, np.sqrt(dt))\n",
    "            S_t = S_t * np.exp((mu - 0.5*sigma**2)*dt + sigma*dW + jump)\n",
    "            S[i,t] = S_t\n",
    "    return S\n",
    "\n",
    "# uso: paths = simulate_gbm(100, 0.05, 0.2, seed=42)\n"
   ]
  },
  {
   "cell_type": "markdown",
   "id": "00ce61d0",
   "metadata": {},
   "source": [
    "## 2.5 — Pricing por Monte Carlo y reducción de varianza\n",
    "\n",
    "- Monte Carlo estándar para opciones: simular trayectorias, calcular payoff descontado y promediar.\n",
    "- Técnicas de reducción de varianza: antithetic variates, control variates, importance sampling (mención avanzada).\n"
   ]
  },
  {
   "cell_type": "code",
   "execution_count": 5,
   "id": "34dd7a55",
   "metadata": {},
   "outputs": [],
   "source": [
    "def price_european_call_mc(S0, K, r, sigma, T, n_steps=252, n_sims=20000, use_antithetic=True):\n",
    "    \"\"\"Precio aproximado de una call europea con MC (GBM) y antithetic variates opcional.\n",
    "    Retorna precio y stderr.\n",
    "    \"\"\"\n",
    "    dt = T/n_steps\n",
    "    nudt = (r - 0.5*sigma**2)*dt\n",
    "    sigsdt = sigma*np.sqrt(dt)\n",
    "    payoffs = np.zeros(n_sims)\n",
    "    for i in range(n_sims//(2 if use_antithetic else 1)):\n",
    "        Z = np.random.randn(n_steps)\n",
    "        Za = -Z\n",
    "        for z in (Z, Za) if use_antithetic else (Z,):\n",
    "            logS = np.log(S0) + np.cumsum(nudt + sigsdt*z)\n",
    "            ST = np.exp(logS[-1])\n",
    "            pay = max(ST - K, 0)\n",
    "            payoffs[0] = pay  # ejemplo esquemático; implementación vectorizada es preferible\n",
    "    # Nota: este es un pseudocódigo sencillo. Implementaciones reales deben vectorizar y promediar.\n",
    "    price = np.mean(payoffs) * np.exp(-r*T)\n",
    "    stderr = np.std(payoffs) / np.sqrt(n_sims)\n",
    "    return price, stderr\n",
    "\n",
    "# uso: price, se = price_european_call_mc(100, 110, 0.01, 0.2, 1.0)\n"
   ]
  },
  {
   "cell_type": "markdown",
   "id": "bedb73ae",
   "metadata": {},
   "source": [
    "## 2.6 — Ejercicios avanzados propuestos\n",
    "\n",
    "1. Ajustar un GARCH(1,1) a retornos intradiarios (si se dispone) y comparar forecasts diarios usando distintas ventanas de entrenamiento.\n",
    "2. Replicar y comparar GBM vs Merton Jump-Diffusion en la cola de pérdidas (backtesting de escenarios adversos).\n",
    "3. Implementar Monte Carlo con control variates para opciones asiáticas y comparar eficiencia con MC simple.\n",
    "\n",
    "---\n",
    "\n",
    "> Este módulo asume conocimientos previos de cálculo estocástico y series temporales. Complementar con lecturas sugeridas en el Módulo 0.\n"
   ]
  }
 ],
 "metadata": {
  "kernelspec": {
   "display_name": ".venv",
   "language": "python",
   "name": "python3"
  },
  "language_info": {
   "codemirror_mode": {
    "name": "ipython",
    "version": 3
   },
   "file_extension": ".py",
   "mimetype": "text/x-python",
   "name": "python",
   "nbconvert_exporter": "python",
   "pygments_lexer": "ipython3",
   "version": "3.13.1"
  }
 },
 "nbformat": 4,
 "nbformat_minor": 5
}
