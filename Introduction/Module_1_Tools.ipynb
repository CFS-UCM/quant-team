{
 "cells": [
  {
   "cell_type": "markdown",
   "id": "6ab8b278",
   "metadata": {},
   "source": [
    "# Módulo 1 — Herramientas técnicas avanzadas (Python)\n",
    "\n",
    "**Objetivo:** dominar la manipulación de series temporales financieras, regresiones avanzadas, y buenas prácticas reproducibles. Todos los comentarios en español.\n"
   ]
  },
  {
   "cell_type": "markdown",
   "id": "4d50067c",
   "metadata": {},
   "source": [
    "## 1.1 — Setup y buenas prácticas\n",
    "\n",
    "- Usar ambientes virtuales (conda/venv).\n",
    "- Listado recomendado de librerías: `pandas`, `numpy`, `scipy`, `statsmodels`, `arch`, `matplotlib`, `seaborn` (opcional para exploración), `sklearn`.\n"
   ]
  },
  {
   "cell_type": "code",
   "execution_count": null,
   "id": "3f97dc33",
   "metadata": {},
   "outputs": [
    {
     "name": "stdout",
     "output_type": "stream",
     "text": [
      "numpy 2.3.3\n",
      "pandas 2.3.2\n"
     ]
    }
   ],
   "source": [
    "import numpy as np\n",
    "import pandas as pd\n",
    "import matplotlib.pyplot as plt\n",
    "from statsmodels.regression.linear_model import OLS\n",
    "from statsmodels.tools import add_constant\n",
    "import statsmodels.api as sm\n",
    "\n",
    "# mostrar versiones (útil para reproducibilidad)\n",
    "print('numpy', np.__version__)\n",
    "print('pandas', pd.__version__)\n"
   ]
  },
  {
   "cell_type": "markdown",
   "id": "8b5b3428",
   "metadata": {},
   "source": [
    "## 1.2 — Carga y limpieza de datos (esqueleto)\n",
    "\n",
    "A continuación un esqueleto robusto para cargar series de precios, ajustar por splits/dividends y calcular retornos logarítmicos.\n"
   ]
  },
  {
   "cell_type": "code",
   "execution_count": null,
   "id": "e038395d",
   "metadata": {},
   "outputs": [],
   "source": [
    "def load_prices(path_or_ticker, source='csv'):\n",
    "    \"\"\"Carga precios desde un CSV local o (si se habilita) desde una API.\n",
    "    Devuelve un DataFrame con índice datetime y columna 'close'.\"\"\"\n",
    "    if source=='csv':\n",
    "        df = pd.read_csv(path_or_ticker, parse_dates=['date'], index_col='date')\n",
    "        # mantener solo la columna close si existe\n",
    "        if 'close' in df.columns:\n",
    "            prices = df['close'].sort_index()\n",
    "        else:\n",
    "            # intentar columna alternativa\n",
    "            prices = df.iloc[:,0].sort_index()\n",
    "    else:\n",
    "        raise NotImplementedError('Implementar API si necesario')\n",
    "    # eliminar NaNs al inicio o final\n",
    "    prices = prices.replace([np.inf, -np.inf], np.nan).dropna()\n",
    "    return prices\n",
    "\n",
    "# uso: prices = load_prices('path/a/archivo.csv')\n"
   ]
  },
  {
   "cell_type": "markdown",
   "id": "20cf0df5",
   "metadata": {},
   "source": [
    "## 1.3 — Cálculo de retornos y estadísticas básicas\n",
    "\n",
    "Usamos retornos logarítmicos por propiedades aditivas en horizontes temporales.\n"
   ]
  },
  {
   "cell_type": "code",
   "execution_count": null,
   "id": "9d33da03",
   "metadata": {},
   "outputs": [],
   "source": [
    "def compute_log_returns(prices):\n",
    "    # prices: pd.Series con índice datetime\n",
    "    logr = np.log(prices).diff().dropna()\n",
    "    return logr\n",
    "\n",
    "\n",
    "def summary_stats(returns):\n",
    "    stats = {\n",
    "        'mean': returns.mean(),\n",
    "        'std': returns.std(),\n",
    "        'skew': returns.skew(),\n",
    "        'kurtosis': returns.kurtosis()\n",
    "    }\n",
    "    return pd.Series(stats)\n",
    "\n",
    "# ejemplo (no ejecutado aquí):\n",
    "# prices = pd.Series(...) ; r = compute_log_returns(prices) ; print(summary_stats(r))\n"
   ]
  },
  {
   "cell_type": "markdown",
   "id": "7241ff83",
   "metadata": {},
   "source": [
    "## 1.4 — Regresión CAPM / Factor Models\n",
    "\n",
    "Estimaremos beta y alpha con errores robustos y discutiremos interpretación.\n"
   ]
  },
  {
   "cell_type": "code",
   "execution_count": null,
   "id": "01481dae",
   "metadata": {},
   "outputs": [],
   "source": [
    "# Ejemplo de regresión CAPM con errores robustos\n",
    "def capm_regression(returns_asset, returns_market, risk_free=0.0):\n",
    "    \"\"\"Calcula alpha y beta del activo respecto al mercado.\n",
    "    returns_*: pd.Series de retornos en el mismo índice.\n",
    "    risk_free: tasa continua (en el mismo periodo que returns, p.ej. diario).\n",
    "    \"\"\"\n",
    "    # exceso de retorno\n",
    "    y = returns_asset - risk_free\n",
    "    X = returns_market - risk_free\n",
    "    X = add_constant(X)\n",
    "    model = OLS(y, X).fit(cov_type='HC3')  # errores robustos (HC3)\n",
    "    return model\n",
    "\n",
    "# uso: res = capm_regression(r_asset, r_market); print(res.summary())\n"
   ]
  },
  {
   "cell_type": "markdown",
   "id": "177781e6",
   "metadata": {},
   "source": [
    "## 1.5 — Backtesting reproducible (esqueleto)\n",
    "\n",
    "Pautas para backtests: evitar look-ahead, aplicar slippage y comisiones, usar walk-forward.\n"
   ]
  },
  {
   "cell_type": "code",
   "execution_count": null,
   "id": "7aa0c4ac",
   "metadata": {},
   "outputs": [],
   "source": [
    "# Esqueleto simple de backtest (pseudocódigo reproducible)\n",
    "\n",
    "def simple_backtest(signals, prices, freq='D', entry_horizon=1, slippage=0.0005, commission=0.0005):\n",
    "    \"\"\"signals: pd.Series con índice datetime y valores en {-1,0,1}\n",
    "    prices: pd.Series de precios (close)\n",
    "    Devuelve series de PnL y métricas básicas.\n",
    "    \"\"\"\n",
    "    # alinear índices\n",
    "    signals = signals.reindex(prices.index).fillna(0)\n",
    "    # entradas en t aplicadas sobre precio en t+entry_horizon\n",
    "    shifted_prices = prices.shift(-entry_horizon)\n",
    "    # retornos de la estrategia: posición * (next_price/current_price - 1) - costs\n",
    "    ret = signals * (shifted_prices / prices - 1)\n",
    "    # aplicar slippage y comisión aproximada por transacción\n",
    "    # este es un esqueleto; en implementaciones reales contabilizar volumen y tamaño de orden\n",
    "    costs = (signals.diff().abs() > 0).astype(int) * (slippage + commission)\n",
    "    strat_ret = ret - costs\n",
    "    strat_ret = strat_ret.dropna()\n",
    "    return strat_ret\n",
    "\n",
    "# uso: pnl = simple_backtest(signals, prices)\n"
   ]
  },
  {
   "cell_type": "markdown",
   "id": "b77698d0",
   "metadata": {},
   "source": [
    "## 1.6 — Buenas prácticas y reproducción\n",
    "- Guardar versiones de datos (hash o snapshot).\n",
    "- Registrar seeds en experimentos aleatorios.\n",
    "- Documentar decisiones (README en cada carpeta de módulo).\n",
    "\n",
    "---\n"
   ]
  }
 ],
 "metadata": {
  "kernelspec": {
   "display_name": ".venv",
   "language": "python",
   "name": "python3"
  },
  "language_info": {
   "codemirror_mode": {
    "name": "ipython",
    "version": 3
   },
   "file_extension": ".py",
   "mimetype": "text/x-python",
   "name": "python",
   "nbconvert_exporter": "python",
   "pygments_lexer": "ipython3",
   "version": "3.13.1"
  }
 },
 "nbformat": 4,
 "nbformat_minor": 5
}
