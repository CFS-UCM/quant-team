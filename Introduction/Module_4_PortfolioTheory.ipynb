{
 "cells": [
  {
   "cell_type": "markdown",
   "id": "708b1089",
   "metadata": {},
   "source": [
    "# Módulo 4: Teoría Moderna de Carteras y Optimización\n",
    "Incluye frontera eficiente, restricciones prácticas y Black-Litterman."
   ]
  },
  {
   "cell_type": "markdown",
   "id": "31c7849e",
   "metadata": {},
   "source": [
    "## 1. Optimización cuadrática de Markowitz\n",
    "\n",
    "El modelo de **Markowitz** (Modern Portfolio Theory, 1952) busca la combinación de activos que **minimiza la varianza de la cartera** (riesgo), dado un nivel de rendimiento esperado, o equivalentemente, maximiza el rendimiento para un nivel de riesgo.\n",
    "\n",
    "### Supuestos clave\n",
    "- Los retornos esperados y las covarianzas entre activos son conocidas.\n",
    "- Los inversores son aversos al riesgo.\n",
    "- El riesgo se mide con la varianza de la cartera.\n",
    "\n",
    "### Formulación matemática\n",
    "\n",
    "Sea:\n",
    "- $ \\mu $: vector de rendimientos esperados (n activos).\n",
    "- $ \\Sigma $: matriz de covarianzas (n x n).\n",
    "- $ w $: vector de pesos de la cartera.\n",
    "- $ \\mu_p = w^\\top \\mu $: rendimiento esperado de la cartera.\n",
    "- $ \\sigma_p^2 = w^\\top \\Sigma w $: varianza de la cartera.\n",
    "\n",
    "El problema estándar es:\n",
    "\n",
    "$$\n",
    "\\min_w \\; w^\\top \\Sigma w\n",
    "$$\n",
    "\n",
    "sujeto a:\n",
    "- $ w^\\top \\mu = \\mu_p $ (rendimiento objetivo),\n",
    "- $ \\mathbf{1}^\\top w = 1 $ (los pesos suman 1),\n",
    "- opcionalmente $ w \\geq 0 $ (sin posiciones cortas).\n",
    "\n",
    "Este es un problema de **programación cuadrática (QP)** y se resuelve fácilmente con librerías como `cvxpy` en Python.\n",
    "\n",
    "El resultado es la **frontera eficiente**, una curva convexa que muestra las carteras óptimas en el plano (riesgo, rendimiento).\n"
   ]
  },
  {
   "cell_type": "code",
   "execution_count": null,
   "id": "7e6f223a",
   "metadata": {},
   "outputs": [],
   "source": [
    "import numpy as np\n",
    "import matplotlib.pyplot as plt\n",
    "\n",
    "np.random.seed(42)\n",
    "returns = np.random.randn(1000, 4) * 0.01\n",
    "cov = np.cov(returns.T)\n",
    "mean_returns = returns.mean(axis=0)\n",
    "\n",
    "weights = np.random.dirichlet(np.ones(4), 5000)\n",
    "port_returns = weights.dot(mean_returns)\n",
    "port_vols = np.sqrt(np.sum(weights @ cov * weights, axis=1))\n",
    "\n",
    "plt.scatter(port_vols, port_returns, alpha=0.3)\n",
    "plt.xlabel('Volatilidad')\n",
    "plt.ylabel('Retorno esperado')\n",
    "plt.title('Frontera eficiente simulada')\n",
    "plt.show()"
   ]
  },
  {
   "cell_type": "markdown",
   "id": "0dd26eda",
   "metadata": {},
   "source": [
    "### Ejercicio:\n",
    "1. Implementa la optimización cuadrática de Markowitz.\n",
    "2. Introduce Black-Litterman con opiniones de inversores."
   ]
  }
 ],
 "metadata": {
  "language_info": {
   "name": "python"
  }
 },
 "nbformat": 4,
 "nbformat_minor": 5
}
